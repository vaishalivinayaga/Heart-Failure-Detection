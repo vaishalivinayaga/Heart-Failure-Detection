{
  "nbformat": 4,
  "nbformat_minor": 0,
  "metadata": {
    "colab": {
      "provenance": [],
      "authorship_tag": "ABX9TyPCv3gY6MTBu8ZahgbFr3KY",
      "include_colab_link": true
    },
    "kernelspec": {
      "name": "python3",
      "display_name": "Python 3"
    },
    "language_info": {
      "name": "python"
    }
  },
  "cells": [
    {
      "cell_type": "markdown",
      "metadata": {
        "id": "view-in-github",
        "colab_type": "text"
      },
      "source": [
        "<a href=\"https://colab.research.google.com/github/vaishalivinayaga/Heart-Failure-Detection/blob/main/Detection_of_Heart_Failure.ipynb\" target=\"_parent\"><img src=\"https://colab.research.google.com/assets/colab-badge.svg\" alt=\"Open In Colab\"/></a>"
      ]
    },
    {
      "cell_type": "code",
      "source": [
        "import warnings\n",
        "import numpy as np\n",
        "import pandas as pd\n",
        "import seaborn as sns\n",
        "import matplotlib.pyplot as plt\n",
        "from sklearn.ensemble import RandomForestRegressor\n",
        "from sklearn.linear_model import LinearRegression\n",
        "from sklearn.model_selection import train_test_split\n",
        "from sklearn.metrics import mean_absolute_error,r2_score,mean_squared_error\n",
        "from sklearn.feature_selection import RFE\n",
        "from sklearn.linear_model import LogisticRegression\n",
        "from sklearn.model_selection import train_test_split\n",
        "from sklearn.metrics import accuracy_score, confusion_matrix, classification_report\n"
      ],
      "metadata": {
        "id": "8m9XeRT98njE"
      },
      "execution_count": 1,
      "outputs": []
    },
    {
      "cell_type": "code",
      "source": [
        "data = pd.read_csv(\"heart_failure_clinical_records_dataset\")"
      ],
      "metadata": {
        "id": "3GfU2Aen_u0J"
      },
      "execution_count": null,
      "outputs": []
    },
    {
      "cell_type": "code",
      "source": [
        "data.head()"
      ],
      "metadata": {
        "id": "CBv2vj6G-uL6"
      },
      "execution_count": null,
      "outputs": []
    },
    {
      "cell_type": "code",
      "source": [
        "data.columns"
      ],
      "metadata": {
        "id": "SgGk3Xr8-v61"
      },
      "execution_count": null,
      "outputs": []
    },
    {
      "cell_type": "code",
      "source": [
        "data.columns = data.columns.str.lower()"
      ],
      "metadata": {
        "id": "UDCvsDCo-w-7"
      },
      "execution_count": null,
      "outputs": []
    },
    {
      "cell_type": "code",
      "source": [
        "df_vis = data.copy()\n",
        "df_vis.death_event = df_vis.death_event.map({0:'Alive',1:'Dead'})\n",
        "df_vis.diabetes = df_vis.diabetes.map({0:'No',1:'Yes'})\n",
        "df_vis.smoking = df_vis.smoking.map({0:'No',1:'Yes'})\n",
        "df_vis.sex = df_vis.sex.map({0:'Female',1:'Male'})"
      ],
      "metadata": {
        "id": "XV27SnSa-0UI"
      },
      "execution_count": null,
      "outputs": []
    },
    {
      "cell_type": "code",
      "source": [
        "\n",
        "plt.figure(figsize=(7,7))\n",
        "plt.pie(data['death_event'].value_counts(),labels=['Alive','Dead'],autopct='%1.1f%%',shadow=True,explode=[0,0.1], colors = ['lightblue','lightgreen'])\n",
        "plt.title('Death Event',fontsize=20)\n",
        "plt.show()"
      ],
      "metadata": {
        "id": "nb1GFq4A-0Wu"
      },
      "execution_count": null,
      "outputs": []
    },
    {
      "cell_type": "code",
      "source": [
        "df_vis['sex'].value_counts()"
      ],
      "metadata": {
        "id": "k4WXerPo-0Zm"
      },
      "execution_count": null,
      "outputs": []
    },
    {
      "cell_type": "code",
      "source": [
        "plt.figure(figsize=(7,7))\n",
        "sns.countplot(x='sex',hue='death_event',data=df_vis)\n",
        "\n",
        "plt.figure(figsize=(7,7))\n",
        "sns.violinplot(x='death_event',y='age',data=df_vis, palette='Set3')\n",
        "plt.title('Age with Death Event',fontsize=20)\n",
        "plt.show()\n",
        "\n",
        "\n",
        "\n",
        "\n",
        "plt.figure(figsize=(7,7))\n",
        "sns.countplot(x='diabetes',hue='death_event',data=df_vis, palette='Set1')\n",
        "plt.title('Diabetes with Death Event',fontsize=20)\n",
        "plt.show()\n",
        "\n",
        "\n",
        "plt.figure(figsize=(7,7))\n",
        "sns.countplot(x='smoking',hue='death_event',data=df_vis, palette='Set2')\n",
        "plt.title('Smoking with Death Event',fontsize=20)\n",
        "plt.show()\n"
      ],
      "metadata": {
        "id": "EW_l9XF9-0cc"
      },
      "execution_count": null,
      "outputs": []
    },
    {
      "cell_type": "code",
      "source": [
        "import plotly.express as px\n",
        "fig = px.violin(df_vis, y=\"creatinine_phosphokinase\", x=\"death_event\", color=\"death_event\", box=True, points=\"all\", hover_data=df_vis.columns)\n",
        "fig.show()\n",
        "\n"
      ],
      "metadata": {
        "id": "8qxKhreP-0fH"
      },
      "execution_count": null,
      "outputs": []
    },
    {
      "cell_type": "code",
      "source": [
        "\n",
        "data.isnull().sum()\n",
        "\n",
        "nums = data.select_dtypes(exclude=[\"object\"])\n",
        "nums.plot(subplots = True , kind ='box', layout = (15,4), figsize = (25,35), patch_artist= True ,color = \"#6F266E\")\n",
        "plt.subplots_adjust(wspace = 0.5)\n",
        "plt.style.use(\"ggplot\")\n",
        "plt.show()\n",
        "\n",
        "data = data.drop(data[data['platelets']>420000].index)\n",
        "data = data.drop(data[data['serum_creatinine']>2.5].index)\n",
        "data = data.drop(data[data['creatinine_phosphokinase']>1500].index)\n",
        "\n",
        "\n",
        "plt.figure(figsize=(14,10))\n",
        "sns.heatmap(data.corr(),annot=True,cmap='coolwarm')\n",
        "plt.title('Correlation Heatmap',fontsize=20)\n",
        "plt.show()\n"
      ],
      "metadata": {
        "id": "JWqSKVUb-0h3"
      },
      "execution_count": null,
      "outputs": []
    },
    {
      "cell_type": "code",
      "source": [
        "\n",
        "\n",
        "plt.rcParams['figure.figsize']=15,6\n",
        "sns.set_style(\"darkgrid\")\n",
        "x = data.iloc[:, :-1]\n",
        "y = data.iloc[:,-1]\n",
        "from sklearn.ensemble import ExtraTreesClassifier\n",
        "import matplotlib.pyplot as plt\n",
        "model = ExtraTreesClassifier()\n",
        "model.fit(x,y)\n",
        "print(model.feature_importances_)\n",
        "feat_importances = pd.Series(model.feature_importances_, index=x.columns)\n",
        "feat_importances.nlargest(12).plot(kind='barh',color='blue')\n",
        "plt.show()\n",
        "\n",
        "\n",
        "from statsmodels.stats.outliers_influence import variance_inflation_factor\n",
        "vif_data=data\n",
        "VIF=pd.Series([variance_inflation_factor(vif_data.values,i) \n",
        "for i in range(vif_data.shape[1])],index=vif_data.columns)\n",
        "VIF\n",
        "\n",
        "from statsmodels.stats.outliers_influence import variance_inflation_factor\n",
        "vif_data=data\n",
        "VIF=pd.Series([variance_inflation_factor(vif_data.values,i) \n",
        "for i in range(vif_data.shape[1])],index=vif_data.columns)\n",
        "VIF\n",
        "\n",
        "\n",
        "def MC_remover(data):\n",
        "    vif=pd.Series([variance_inflation_factor(data.values,i)for i in range(data.shape[1])],index=data.columns)\n",
        "    if vif.max()>13:\n",
        "        print(vif[vif == vif.max()].index[0],'has been removed')\n",
        "        data = data.drop(columns=[vif[vif==vif.max()].index[0]])\n",
        "        return data\n",
        "    else:\n",
        "        print(\"No multicollinearity present anymore\")\n",
        "        return data\n",
        "\n",
        "\n",
        "for i in range(10):\n",
        "    vif_data=MC_remover(vif_data)\n",
        "vif_data.head()"
      ],
      "metadata": {
        "id": "ELEr3z25-0jk"
      },
      "execution_count": null,
      "outputs": []
    },
    {
      "cell_type": "code",
      "source": [
        "VIF=pd.Series([variance_inflation_factor(vif_data.values,i) for i in range(vif_data.shape[1])],index=vif_data.columns)\n",
        "VIF,len(vif_data.columns)\n",
        "\n",
        "X = vif_data.drop('death_event',axis=1)\n",
        "y = vif_data['death_event']\n",
        "\n",
        "\n",
        "from imblearn.over_sampling import SMOTE\n",
        "sm = SMOTE(random_state=42)\n",
        "X_sm, y_sm = sm.fit_resample(X, y)\n"
      ],
      "metadata": {
        "id": "rhgUWtUC-0m-"
      },
      "execution_count": null,
      "outputs": []
    },
    {
      "cell_type": "code",
      "source": [
        "from sklearn.preprocessing import StandardScaler\n",
        "scaler = StandardScaler()\n",
        "X_sm = scaler.fit_transform(X_sm)"
      ],
      "metadata": {
        "id": "QTiIKLiZfRnf"
      },
      "execution_count": null,
      "outputs": []
    },
    {
      "cell_type": "code",
      "source": [
        "X_train, X_test, y_train, y_test = train_test_split(X_sm, y_sm, test_size=0.2, random_state=42)"
      ],
      "metadata": {
        "id": "IB2NUFbh_EE3"
      },
      "execution_count": null,
      "outputs": []
    },
    {
      "cell_type": "code",
      "source": [
        "from gc import callbacks\n",
        "from keras.models import Sequential\n",
        "from keras.layers import Dense\n",
        "from keras.layers import Dropout\n",
        "from keras.layers import BatchNormalization\n",
        "from keras.layers import LeakyReLU\n",
        "from tensorflow.keras.optimizers import Adam\n",
        "from tensorflow.keras.callbacks import EarlyStopping\n",
        "import tensorflow as tf"
      ],
      "metadata": {
        "id": "gEWaCB0u_EHT"
      },
      "execution_count": null,
      "outputs": []
    },
    {
      "cell_type": "code",
      "source": [
        "early_stopping = tf.keras.callbacks.EarlyStopping(\n",
        "     min_delta=0.001, \n",
        "    patience=20, \n",
        "    restore_best_weights=True\n",
        ")\n",
        "model = Sequential()"
      ],
      "metadata": {
        "id": "7OkV6CKz_EK2"
      },
      "execution_count": null,
      "outputs": []
    },
    {
      "cell_type": "code",
      "source": [
        "\n",
        "model.add(Dense(units = 16, kernel_initializer = 'uniform', activation = 'relu', input_dim = 10))\n",
        "\n",
        "model.add(Dense(units = 8, kernel_initializer = 'uniform', activation = 'relu'))\n",
        "model.add(Dropout(0.25))\n",
        "\n",
        "model.add(Dense(units = 8, kernel_initializer = 'uniform', activation = 'relu'))\n",
        "model.add(Dropout(0.25))\n",
        "\n",
        "model.add(Dense(units = 6, kernel_initializer = 'uniform', activation = 'relu'))\n",
        "model.add(Dropout(0.01))\n",
        "\n",
        "model.add(Dense(units = 1, kernel_initializer = 'uniform', activation = 'sigmoid')) \n",
        "\n"
      ],
      "metadata": {
        "id": "VGPc3vjk_P6O"
      },
      "execution_count": null,
      "outputs": []
    },
    {
      "cell_type": "code",
      "source": [
        "\n",
        "model.compile(optimizer = 'adam', loss = 'binary_crossentropy', metrics = ['accuracy'])"
      ],
      "metadata": {
        "id": "fX8x86Ys_P8m"
      },
      "execution_count": null,
      "outputs": []
    },
    {
      "cell_type": "code",
      "source": [
        "history = model.fit(X_train, y_train, batch_size = 32, epochs = 200,callbacks=[early_stopping], validation_split=0.2)"
      ],
      "metadata": {
        "id": "wEVES1xp_P_1"
      },
      "execution_count": null,
      "outputs": []
    },
    {
      "cell_type": "code",
      "source": [
        "plt.title('Training and Validation loss')\n",
        "plt.plot(history.history['loss'], label='loss', color='blue')\n",
        "plt.plot(history.history['val_loss'], label='validation loss', color='orange')\n",
        "plt.legend()\n",
        "plt.show()\n",
        "\n",
        "plt.title('Training and Validation accuracy')\n",
        "plt.plot(history.history['accuracy'], label='accuracy', color='green')\n",
        "plt.plot(history.history['val_accuracy'], label='validation accuracy', color='red')\n",
        "plt.legend()\n",
        "plt.show()\n",
        "\n",
        "y_pred = model.predict(X_test)\n",
        "y_pred = (y_pred > 0.5)\n",
        "y_pred"
      ],
      "metadata": {
        "id": "NVQiNUHK_QDZ"
      },
      "execution_count": null,
      "outputs": []
    },
    {
      "cell_type": "code",
      "source": [
        "\n",
        "from sklearn.metrics import classification_report\n",
        "print(classification_report(y_test, y_pred))\n",
        "model.summary()"
      ],
      "metadata": {
        "id": "322BgNTC_XyZ"
      },
      "execution_count": null,
      "outputs": []
    },
    {
      "cell_type": "code",
      "source": [
        "from sklearn.metrics import confusion_matrix\n",
        "cm = confusion_matrix(y_test, y_pred)\n",
        "sns.heatmap(cm, annot=True, fmt='d', cmap='Blues')\n",
        "plt.show()"
      ],
      "metadata": {
        "id": "pdj3hmMe_X03"
      },
      "execution_count": null,
      "outputs": []
    },
    {
      "cell_type": "code",
      "source": [],
      "metadata": {
        "id": "MVOGIAyJ_X4f"
      },
      "execution_count": null,
      "outputs": []
    }
  ]
}